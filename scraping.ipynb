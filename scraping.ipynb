{
 "cells": [
  {
   "attachments": {},
   "cell_type": "markdown",
   "metadata": {},
   "source": [
    "# Making sense of snscrape\n",
    "\n",
    "Author: Sid"
   ]
  },
  {
   "cell_type": "code",
   "execution_count": 1,
   "metadata": {},
   "outputs": [],
   "source": [
    "%load_ext autoreload\n",
    "%autoreload 2"
   ]
  },
  {
   "attachments": {},
   "cell_type": "markdown",
   "metadata": {},
   "source": [
    "Make sure snscrape is is installed, you can do this by running `pip install snscrape` in your terminal. Then run the below cell to import the required libraries."
   ]
  },
  {
   "cell_type": "code",
   "execution_count": 2,
   "metadata": {},
   "outputs": [],
   "source": [
    "import pandas as pd\n",
    "from twitscrape import *\n",
    "import snscrape.modules.twitter as sntwitter"
   ]
  },
  {
   "attachments": {},
   "cell_type": "markdown",
   "metadata": {},
   "source": [
    "Note: Make sure you are running the latest version of snscrape. run this command in your terminal just in case.\n",
    "\n",
    "```pip install --upgrade snscrape```"
   ]
  },
  {
   "attachments": {},
   "cell_type": "markdown",
   "metadata": {},
   "source": [
    "## Why snscrape?\n",
    "Over the recent years, Twitter API has gotten a lot worse. Most features have been paywalled, and the ones that are available are heavily rate limited so that the servers dont get overloaded. While this is a good thing in theory for stability, it isnt ideal for people who want to actually scrape tweets from twitter and analyse data about them. Using snscrape is a good way to harvest data without using the API. The only issue is, its really poorly documented in terms of python modules and object names. This notebook explores some of the different scrapers in the library."
   ]
  },
  {
   "attachments": {},
   "cell_type": "markdown",
   "metadata": {},
   "source": [
    "## Looking at different modules\n",
    "\n",
    "Some modules include:\n",
    "* TwitterProfileScraper\n",
    "* TwitterTweetScraper\n",
    "* TwitterUserScraper\n",
    "* TwitterTrendsScraper\n",
    "\n",
    "For the purposes of the project we probably want to look at TwitterUserScraper, as it doesnt include other people mentioning the user that we are requesting the search for. \n",
    "\n",
    "You can look at all the contents that it gets from the most recent tweet in a profile, and from that we can grab all of the useful data we need and manipulate it however we want.\n",
    "\n",
    "Below is a cell that will grab the data of the latest tweet from NAME, try it if you want and see all the info we can use."
   ]
  },
  {
   "cell_type": "code",
   "execution_count": 4,
   "metadata": {},
   "outputs": [
    {
     "name": "stdout",
     "output_type": "stream",
     "text": [
      "<class 'generator'>\n"
     ]
    },
    {
     "data": {
      "text/plain": [
       "Tweet(url='https://twitter.com/jack/status/1620552043609096192', date=datetime.datetime(2023, 1, 31, 22, 38, 10, tzinfo=datetime.timezone.utc), rawContent='and Google Play Store: https://t.co/1Ve7GIBG0F\\n\\nand of course, the open web: https://t.co/qXl9xrmtKE (one of many)', renderedContent='and Google Play Store: play.google.com/store/apps/det…\\n\\nand of course, the open web: snort.social (one of many)', id=1620552043609096192, user=User(username='jack', id=12, displayname='jack', rawDescription='#bitcoin\\n#nostr: npub1sg6plzptd64u62a878hep2kev88swjh3tw00gjsfl8f237lmu63q0uf63m', renderedDescription='#bitcoin\\n#nostr: npub1sg6plzptd64u62a878hep2kev88swjh3tw00gjsfl8f237lmu63q0uf63m', descriptionLinks=None, verified=True, created=datetime.datetime(2006, 3, 21, 20, 50, 14, tzinfo=datetime.timezone.utc), followersCount=6552139, friendsCount=4624, statusesCount=29016, favouritesCount=35950, listedCount=33492, mediaCount=2904, location='', protected=False, link=TextLink(text='snort.social/p/npub1sg6plzp…', url='https://snort.social/p/npub1sg6plzptd64u62a878hep2kev88swjh3tw00gjsfl8f237lmu63q0uf63m', tcourl='https://t.co/XsR9um0kTc', indices=(0, 23)), profileImageUrl='https://pbs.twimg.com/profile_images/1633258359792062465/pa8Hx-C9_normal.jpg', profileBannerUrl='https://pbs.twimg.com/profile_banners/12/1584998840', label=None), replyCount=371, retweetCount=674, likeCount=2674, quoteCount=602, conversationId=1620552041600000000, lang='en', source='<a href=\"https://mobile.twitter.com\" rel=\"nofollow\">Twitter Web App</a>', sourceUrl='https://mobile.twitter.com', sourceLabel='Twitter Web App', links=[TextLink(text='play.google.com/store/apps/det…', url='https://play.google.com/store/apps/details?id=com.vitorpamplona.amethyst&hl=en', tcourl='https://t.co/1Ve7GIBG0F', indices=(23, 46)), TextLink(text='snort.social', url='https://snort.social', tcourl='https://t.co/qXl9xrmtKE', indices=(77, 100))], media=None, retweetedTweet=None, quotedTweet=None, inReplyToTweetId=1620552041600000000, inReplyToUser=User(username='jack', id=12, displayname='jack', rawDescription='#bitcoin\\n#nostr: npub1sg6plzptd64u62a878hep2kev88swjh3tw00gjsfl8f237lmu63q0uf63m', renderedDescription='#bitcoin\\n#nostr: npub1sg6plzptd64u62a878hep2kev88swjh3tw00gjsfl8f237lmu63q0uf63m', descriptionLinks=None, verified=True, created=datetime.datetime(2006, 3, 21, 20, 50, 14, tzinfo=datetime.timezone.utc), followersCount=6552139, friendsCount=4624, statusesCount=29016, favouritesCount=35950, listedCount=33492, mediaCount=2904, location='', protected=False, link=TextLink(text='snort.social/p/npub1sg6plzp…', url='https://snort.social/p/npub1sg6plzptd64u62a878hep2kev88swjh3tw00gjsfl8f237lmu63q0uf63m', tcourl='https://t.co/XsR9um0kTc', indices=(0, 23)), profileImageUrl='https://pbs.twimg.com/profile_images/1633258359792062465/pa8Hx-C9_normal.jpg', profileBannerUrl='https://pbs.twimg.com/profile_banners/12/1584998840', label=None), mentionedUsers=None, coordinates=None, place=None, hashtags=None, cashtags=None, card=SummaryCard(title='Amethyst - Apps on Google Play', url='https://play.google.com/store/apps/details?id=com.vitorpamplona.amethyst&hl=en', description='Amethyst Nostr Client', thumbnailUrl='https://pbs.twimg.com/card_img/1633788713036664832/pu8ZlfcJ?format=jpg&name=orig', siteUser=User(username='GooglePlay', id=243381107, displayname='Google Play', rawDescription='We’re exploring the world’s greatest stories through movies, TV, games, apps, books and so much more. Up for new adventures and discoveries? Let’s play.', renderedDescription='We’re exploring the world’s greatest stories through movies, TV, games, apps, books and so much more. Up for new adventures and discoveries? Let’s play.', descriptionLinks=None, verified=True, created=datetime.datetime(2011, 1, 26, 22, 44, 39, tzinfo=datetime.timezone.utc), followersCount=7564697, friendsCount=320, statusesCount=232532, favouritesCount=8363, listedCount=12820, mediaCount=25003, location='', protected=False, link=TextLink(text='play.google.com', url='http://play.google.com', tcourl='https://t.co/RVBA7vaxAE', indices=(0, 23)), profileImageUrl='https://pbs.twimg.com/profile_images/1551615678418788353/F49R5U9C_normal.png', profileBannerUrl='https://pbs.twimg.com/profile_banners/243381107/1677707090', label=None), creatorUser=None), viewCount=1024322, vibe=None)"
      ]
     },
     "execution_count": 4,
     "metadata": {},
     "output_type": "execute_result"
    }
   ],
   "source": [
    "NAME = \"jack\" #paste the twitter handle here without the '@'\n",
    "user_scraper = sntwitter.TwitterUserScraper(NAME).get_items()\n",
    "print (type(user_scraper))\n",
    "for tweet in user_scraper:\n",
    "    break\n",
    "tweet"
   ]
  },
  {
   "attachments": {},
   "cell_type": "markdown",
   "metadata": {},
   "source": [
    "As you can see, there are a bunch of fields that the module pulled from the latest tweet. For example, `date` gives you the date and time that the tweet happened, retweetCount and likeCount give you the number of retweets and likes that a tweet has gotten respectively. We can call these values individually by calling the iterable variable, in this case `tweet`, followed with a dot and the field that we want to look at.\n",
    "\n",
    "`tweet.displayname` returns the display name of the twitter user, while `tweet.followersCount` tells you the amount of followers that the user had at the time of tweeting."
   ]
  },
  {
   "attachments": {},
   "cell_type": "markdown",
   "metadata": {},
   "source": [
    "## Pulling specific data from a tweet\n",
    "\n",
    "In `basescrape.py`, there is a function called `get_tweet` which returns the rawContent of a tweet. Using the content object causes deprecation issues.\n",
    "\n",
    "Feel free to test grabbing the content of a tweet from any account using the code cell below.\n",
    "\n",
    "If the tweet is an image, a shortened hyperlink to the tweet will be the output."
   ]
  },
  {
   "cell_type": "code",
   "execution_count": 5,
   "metadata": {},
   "outputs": [
    {
     "name": "stdout",
     "output_type": "stream",
     "text": [
      "and Google Play Store: https://t.co/1Ve7GIBG0F\n",
      "\n",
      "and of course, the open web: https://t.co/qXl9xrmtKE (one of many)\n"
     ]
    }
   ],
   "source": [
    "NAME = \"jack\"\n",
    "tweet = get_tweet(NAME)\n",
    "print(tweet)"
   ]
  },
  {
   "attachments": {},
   "cell_type": "markdown",
   "metadata": {},
   "source": [
    "You can call multiple of these elements, and print the output in a list to see a list of key statistics for a tweet.\n",
    "\n",
    "The `get_tweet_data` function does this and returns the date, tweet, and contents in the most recent tweet on a profile."
   ]
  },
  {
   "cell_type": "code",
   "execution_count": 9,
   "metadata": {},
   "outputs": [
    {
     "name": "stdout",
     "output_type": "stream",
     "text": [
      "[[datetime.datetime(2023, 1, 31, 22, 38, 10, tzinfo=datetime.timezone.utc), 'and Google Play Store: https://t.co/1Ve7GIBG0F\\n\\nand of course, the open web: https://t.co/qXl9xrmtKE (one of many)', 3273]]\n"
     ]
    }
   ],
   "source": [
    "NAME = \"jack\"\n",
    "tweet_data = get_tweet_data(NAME)\n",
    "print(tweet_data)"
   ]
  },
  {
   "attachments": {},
   "cell_type": "markdown",
   "metadata": {},
   "source": [
    "As you can see, the date is in a weird format. However, printing the date separately works fine. This is because the date is being stored as a datetime object, and you can call different aspects if you want to compare them to an existing date time. This is an approach you can take to compare tweet times to times of stock price drops, if you wanted to. Use [this](https://www.listendata.com/2019/07/how-to-use-datetime-in-python.html#id-886a0d) link to learn more about datetime objects."
   ]
  },
  {
   "attachments": {},
   "cell_type": "markdown",
   "metadata": {},
   "source": [
    "For the purposes of this project, it is best to convert the datetime object into a string, which can then be broken down into aspects for date and time. THese can then be compared to other strings of dates and times, which might be useful later. The `datetime` class has a function which can this, and below you can see its implementation.\n",
    "Run the code cell below to import it, then it can be tested with a date time object from a scraped tweet.\n",
    "\n",
    "(For simplicity, a `get_tweet_date` function was defined that gets the date of the latest tweet from a profile.)"
   ]
  },
  {
   "cell_type": "code",
   "execution_count": 20,
   "metadata": {},
   "outputs": [
    {
     "name": "stdout",
     "output_type": "stream",
     "text": [
      "2023-01-31 22:38:10+00:00\n",
      "The date of this tweet is 31012023 and it is a <class 'str'>.\n",
      "The time of this tweet is 223810 and it is a <class 'str'>.\n"
     ]
    }
   ],
   "source": [
    "from datetime import datetime\n",
    "NAME = \"jack\"\n",
    "dates = get_tweet_date(NAME)\n",
    "print(dates)\n",
    "date = dates.strftime(\"%d%m%Y\")\n",
    "time = dates.strftime(\"%H%M%S\")\n",
    "date_type=type(date)\n",
    "time_type=type(time)\n",
    "print(f\"The date of this tweet is {date} and it is a {date_type}.\")\n",
    "print(f\"The time of this tweet is {time} and it is a {time_type}.\")\n"
   ]
  },
  {
   "attachments": {},
   "cell_type": "markdown",
   "metadata": {},
   "source": [
    "## Scraping tweets within a certain timeframe.\n",
    "Using the basis of the previous functions, the elements can be combined to scrape a profile for a certain number of tweets. It can then later be customized to allow for the number of tweets scraped to be determined, as well as all the tweets tweeted in a certain month. The function `get_thou_tweets` starts by taking the twitter handle as an input, and stores the list of the last 10000 tweets in a csv called `\"NAME.csv\"` in the `raw-data` folder, where name is the display name of the twitter profile. The data is stored as a pandas dataframe, with the rows representing the date, time, content, and view count of the tweet respectively. The dataframe is the return for further analysis and plotting."
   ]
  },
  {
   "cell_type": "code",
   "execution_count": 7,
   "metadata": {},
   "outputs": [],
   "source": [
    "NAME = \"elonmusk\"\n",
    "\n",
    "tweets_df = get_thou_tweets(NAME)"
   ]
  },
  {
   "attachments": {},
   "cell_type": "markdown",
   "metadata": {},
   "source": [
    "You may have noticed that this took a very long time, and if we are planning to scrape tweets across longer time periods, then the number of tweets being stored has to be reduced for time and space reasons. One way that this can be done is by only appending tweets that meet certain parameters set.\n",
    "\n",
    "One of these parameters is the month that the tweet happens in. The function `get_tweets_in_month` scans the same 10000 tweet period, but this time only tweets within a specifed month are saved to the csv. This data is viewable from the `month-data` folder.\n",
    "\n",
    "Note: This function differs to the previous ones in a few ways. The `statusesCount` (total tweets) value needs to be grabbed freom an object within the `user` object, so that the loop can be broken out of if the loop index surpasses it. The position of the loop conditions changes, and the additional object call takes place at the start of the for loop."
   ]
  },
  {
   "cell_type": "code",
   "execution_count": 4,
   "metadata": {},
   "outputs": [],
   "source": [
    "NAME = \"elonmusk\"\n",
    "\n",
    "tweets_df = get_tweets_in_month(NAME, \"\")"
   ]
  },
  {
   "attachments": {},
   "cell_type": "markdown",
   "metadata": {},
   "source": [
    "This still takes a long time, so when working with this data it may be best to work on a pre-existing csv, and place the new edited data onto a separtae file, that has everything we are looking for. The dataframe can then be scraped through row by row, with only specific dates and/or times being included. This drastically decreases the computational workload, and allows us to map the instance of a tweet to any graph we want."
   ]
  },
  {
   "attachments": {},
   "cell_type": "markdown",
   "metadata": {},
   "source": [
    "## Excluding dates and times\n",
    "In some cases, you may want to exclude all tweets tweeted past a certain time, as they are not relevant. To make the target datafile as manageable as possible, a number of truncations and assumptions need to be made about the tweets being scraped."
   ]
  },
  {
   "attachments": {},
   "cell_type": "markdown",
   "metadata": {},
   "source": [
    "### Truncating tweets after-hours\n",
    "\n",
    "Some tweets are not always seen by everyone, and they may not even have a link to adjecent charts that we may be interested in. It can therefore be useful to only store tweets tweeted before and after certain periods."
   ]
  },
  {
   "attachments": {},
   "cell_type": "markdown",
   "metadata": {},
   "source": [
    "## Generating raw data\n",
    "\n",
    "Now we have an understanding of all the different aspects of the scraping library, and you have a basic idea of some of the different ways to filter the tweets you are interested in. For the purposes of this project, it is best to scrape all the tweets, and then filter down the data in a csv file to look at parts we are interested in.\n",
    "\n",
    "The function `get_all_tweets` scrapes through a user's entire profile for all tweets, and stores the data in a csv with the name as their twitter handle.\n",
    "\n",
    "Note: This can take an extremely long time to run."
   ]
  },
  {
   "cell_type": "code",
   "execution_count": null,
   "metadata": {},
   "outputs": [],
   "source": [
    "NAME = \"elonmusk\"\n",
    "tweets = get_all_tweets(NAME)\n"
   ]
  },
  {
   "attachments": {},
   "cell_type": "markdown",
   "metadata": {},
   "source": [
    "For the sake of this data story, it is safe to ignore tweets that took place before around 2019, as the tweets made prior to this were to a much smaller audience, and were tweeted during a time where tweets were under less scrutiny. The `get_tweets_after` function takes the handle and target year, and returns all the tweets after that year."
   ]
  },
  {
   "cell_type": "code",
   "execution_count": 6,
   "metadata": {},
   "outputs": [],
   "source": [
    "NAME = \"elonmusk\"\n",
    "year = \"2017\"\n",
    "tweets = get_tweets_after(NAME,year)"
   ]
  },
  {
   "cell_type": "code",
   "execution_count": 4,
   "metadata": {},
   "outputs": [],
   "source": [
    "NAME = \"elonmusk\"\n",
    "YEAR = \"2013\"\n",
    "tweets = get_tweets_on_year(NAME,YEAR)\n",
    "tweets.loc[:, 'like count'].mean()"
   ]
  },
  {
   "cell_type": "code",
   "execution_count": 5,
   "metadata": {},
   "outputs": [
    {
     "data": {
      "text/plain": [
       "277.3980343980344"
      ]
     },
     "execution_count": 5,
     "metadata": {},
     "output_type": "execute_result"
    }
   ],
   "source": [
    "tweets.loc[:, 'like count'].mean()"
   ]
  },
  {
   "attachments": {},
   "cell_type": "markdown",
   "metadata": {},
   "source": [
    "Now all the data needed is in a csv, it can be manipulated based on other parameters such as stock data."
   ]
  }
 ],
 "metadata": {
  "kernelspec": {
   "display_name": "Python 3",
   "language": "python",
   "name": "python3"
  },
  "language_info": {
   "codemirror_mode": {
    "name": "ipython",
    "version": 3
   },
   "file_extension": ".py",
   "mimetype": "text/x-python",
   "name": "python",
   "nbconvert_exporter": "python",
   "pygments_lexer": "ipython3",
   "version": "3.9.13"
  },
  "orig_nbformat": 4,
  "vscode": {
   "interpreter": {
    "hash": "916dbcbb3f70747c44a77c7bcd40155683ae19c65e1c03b4aa3499c5328201f1"
   }
  }
 },
 "nbformat": 4,
 "nbformat_minor": 2
}
