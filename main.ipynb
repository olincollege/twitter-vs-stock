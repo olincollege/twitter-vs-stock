{
 "cells": [
  {
   "attachments": {},
   "cell_type": "markdown",
   "metadata": {},
   "source": [
    "# Exploring the effect that Elon Musk's tweets have on the stock price of Tesla\n",
    "\n",
    "Authors: Trinity Lee and Sidney Taylor"
   ]
  },
  {
   "attachments": {},
   "cell_type": "markdown",
   "metadata": {},
   "source": [
    "## Why does this matter?\n",
    "As social media has become easier to access over the years, sites like Twitter have become increasingly popular by executive figures, as they can voice their own opinions in a more casual manner, and interact with a fanbase that they have built through their companies. The most prolific and active example of this at the moment is Elon Musk. He has ammased a twitter following of over 130 million users, at least 10% of which interact with each of his tweets. This naturally places him directly in the eye of the public, and gives him an even bigger influence on society. Being the CEO and Co-Founder of Tesla, everything he says and does has the potential to create a ripple effect within the EV Giant. In particular, his activity on Twitter has been speculated to cause the stocks of his companies to be negatively affected, as investors lose confidence in Elon.\n",
    "\n",
    "Looking at whether his tweets specifically caused this dip is interesting, as it would provide decent evidence towards a claim of Musk intentionally tweeting specific things to benefit his own financial position. This raises ethical and legal questions about the behavior and actvity of CEO's on social media platforms. Some may argue that they should be able to say whatever they want, while others will want to protect their investments and limit the comments of CEO's on partisan and other dividing issues.\n",
    "\n",
    "In this essay, we will use public tweet data to attempt to come to a reasonable conclusion on the effect that Elon Musk's tweets actually have on the stock price of Tesla.\n",
    "\n",
    "We hope to answer the question:\n",
    "<br/>To what extent is the stock price of Tesla affected by the content of Elon Musk's tweets?"
   ]
  },
  {
   "attachments": {},
   "cell_type": "markdown",
   "metadata": {},
   "source": [
    "## Hypothesis\n",
    "Based on a range of news stories and other compelling studies done into subject revolving company optics, we can do our best to make a prediction on whether there is a direct correlation between the decrease in stock price of Tesla, and the content of Elon Musk's tweets around that time period. In the past, Musk has been penalized by overseeing authorities for tweets that have cost his investors substantial losses. This suggests the fact that there is at least a small correlation that he and disiplinary bodies such as the SEC are aware of, however the actual correlation is harder to pinpoint. This is because any direct statement that suggests Musk tweeted knowing he would affect the stock price could be treated as market manipulation, which is a much more serious accusation and requires much more thorough investigation. For the purpose of this study, we are only exploring whether the change took place due to the tweets, not whether it was intentional or not.\n",
    "\n",
    "With the previous and ongoing cases surrounding Elon Musk's tweets, as well as the real time stock prices of Tesla being heavily volatile for numerous reasons, it is reasonable to predict that the content of Elon Musk's tweets have a decent impact on the stock price of Tesla."
   ]
  },
  {
   "attachments": {},
   "cell_type": "markdown",
   "metadata": {},
   "source": [
    "## Methodology\n",
    "This exploration will be broken down into several stages. First we will explore the `snscrape` library, and how it can be used to scrape tweet data. There are many reasons why direct api calls are risky to use with twitter in particular, which need to be addressed for context. We will then use this library to scrape all of Elon Musk's tweets after 2017. 2018 as the starting year will be justified during this essay, but the overall arguement stems from the fact that out of Musk's 23000 tweets, 20000 of them are from 2018 and beyond. He was also not as vocal about Tesla on social media before that time period, so all the tweets in that time will not provide us useful data for our exploration.\n",
    "\n",
    "After using the `snscrape` library, we will then generate some python functions to filter this data in different ways. We will then be left with dataframes and processed csvs that we can use for the next stage.\n",
    "\n",
    "We will then look at using the `stockplot` and `yfinance` libraries to scrape the stock prices of the relevant indicies. In particular, indicies relating to tech companies, top 100 companies, and EV indicies will be useful.\n",
    "\n",
    "We will then determine a threshold for what constitutes a significant drop in stock price, and generate a list of dates of interest.\n",
    "\n",
    "After looking at the content of the tweets made on these days, we can then conduct small event studies on specific cases that we know had consequences for Elon Musk, to verify the validity of our method and parameters."
   ]
  }
 ],
 "metadata": {
  "kernelspec": {
   "display_name": "base",
   "language": "python",
   "name": "python3"
  },
  "language_info": {
   "name": "python",
   "version": "3.9.13"
  },
  "orig_nbformat": 4
 },
 "nbformat": 4,
 "nbformat_minor": 2
}
